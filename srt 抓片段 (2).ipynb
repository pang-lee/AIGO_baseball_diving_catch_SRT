{
 "cells": [
  {
   "cell_type": "code",
   "execution_count": 5,
   "id": "ef2a4a18",
   "metadata": {},
   "outputs": [
    {
     "name": "stdout",
     "output_type": "stream",
     "text": [
      "Requirement already satisfied: pydub in c:\\users\\wmnl\\anaconda3\\envs\\pycorrector\\lib\\site-packages (0.25.1)\n"
     ]
    }
   ],
   "source": [
    "!pip install pydub"
   ]
  },
  {
   "cell_type": "code",
   "execution_count": 10,
   "id": "c3b65b24",
   "metadata": {},
   "outputs": [
    {
     "name": "stdout",
     "output_type": "stream",
     "text": [
      "['.\\\\0409_1-4.mp4']\n",
      "MoviePy - Writing audio in .\\0409_1-4.wav\n"
     ]
    },
    {
     "name": "stderr",
     "output_type": "stream",
     "text": [
      "                                                                                                                       \r"
     ]
    },
    {
     "name": "stdout",
     "output_type": "stream",
     "text": [
      "MoviePy - Done.\n"
     ]
    }
   ],
   "source": [
    "from moviepy.editor import *\n",
    "from pydub import AudioSegment\n",
    "from scipy.io import wavfile\n",
    "import glob\n",
    "mp4_files = r\"./*.mp4\"\n",
    "mp4_files = glob.glob(mp4_files)\n",
    "print(mp4_files)\n",
    "for mp4_file in mp4_files:\n",
    "    wav_file = mp4_file[:-4]+\".wav\"    \n",
    "    video = VideoFileClip(mp4_file)\n",
    "    audio = video.audio\n",
    "    audio.write_audiofile(wav_file)\n",
    "    audio = AudioSegment.from_file(wav_file)  # 讀取 wav\n",
    "    audio = audio[:] + 8  \n",
    "    audio.export(wav_file)"
   ]
  },
  {
   "cell_type": "code",
   "execution_count": 1,
   "id": "5063dfaf",
   "metadata": {},
   "outputs": [
    {
     "name": "stdout",
     "output_type": "stream",
     "text": [
      "Collecting git+https://github.com/agermanidis/autosub.git\n",
      "  Cloning https://github.com/agermanidis/autosub.git to c:\\users\\wmnl\\appdata\\local\\temp\\pip-req-build-z6kah7iu\n",
      "  Resolved https://github.com/agermanidis/autosub.git to commit d32389cb76e63ec6959111c3f989a72f36f726fe\n",
      "  Preparing metadata (setup.py): started\n",
      "  Preparing metadata (setup.py): finished with status 'done'\n",
      "Requirement already satisfied: google-api-python-client>=1.4.2 in c:\\users\\wmnl\\anaconda3\\envs\\pycorrector\\lib\\site-packages (from autosub==0.4.0) (2.61.0)\n",
      "Requirement already satisfied: requests>=2.3.0 in c:\\users\\wmnl\\anaconda3\\envs\\pycorrector\\lib\\site-packages (from autosub==0.4.0) (2.28.1)\n",
      "Requirement already satisfied: pysrt>=1.0.1 in c:\\users\\wmnl\\anaconda3\\envs\\pycorrector\\lib\\site-packages (from autosub==0.4.0) (1.1.2)\n",
      "Requirement already satisfied: progressbar2>=3.34.3 in c:\\users\\wmnl\\anaconda3\\envs\\pycorrector\\lib\\site-packages (from autosub==0.4.0) (4.0.0)\n",
      "Requirement already satisfied: six>=1.11.0 in c:\\users\\wmnl\\anaconda3\\envs\\pycorrector\\lib\\site-packages (from autosub==0.4.0) (1.16.0)\n",
      "Requirement already satisfied: google-auth<3.0.0dev,>=1.19.0 in c:\\users\\wmnl\\anaconda3\\envs\\pycorrector\\lib\\site-packages (from google-api-python-client>=1.4.2->autosub==0.4.0) (2.11.0)\n",
      "Requirement already satisfied: google-api-core!=2.0.*,!=2.1.*,!=2.2.*,!=2.3.0,<3.0.0dev,>=1.31.5 in c:\\users\\wmnl\\anaconda3\\envs\\pycorrector\\lib\\site-packages (from google-api-python-client>=1.4.2->autosub==0.4.0) (2.10.1)\n",
      "Requirement already satisfied: httplib2<1dev,>=0.15.0 in c:\\users\\wmnl\\anaconda3\\envs\\pycorrector\\lib\\site-packages (from google-api-python-client>=1.4.2->autosub==0.4.0) (0.20.4)\n",
      "Requirement already satisfied: uritemplate<5,>=3.0.1 in c:\\users\\wmnl\\anaconda3\\envs\\pycorrector\\lib\\site-packages (from google-api-python-client>=1.4.2->autosub==0.4.0) (4.1.1)\n",
      "Requirement already satisfied: google-auth-httplib2>=0.1.0 in c:\\users\\wmnl\\anaconda3\\envs\\pycorrector\\lib\\site-packages (from google-api-python-client>=1.4.2->autosub==0.4.0) (0.1.0)\n",
      "Requirement already satisfied: python-utils>=3.0.0 in c:\\users\\wmnl\\anaconda3\\envs\\pycorrector\\lib\\site-packages (from progressbar2>=3.34.3->autosub==0.4.0) (3.3.3)\n",
      "Requirement already satisfied: chardet in c:\\users\\wmnl\\anaconda3\\envs\\pycorrector\\lib\\site-packages (from pysrt>=1.0.1->autosub==0.4.0) (3.0.4)\n",
      "Requirement already satisfied: urllib3<1.27,>=1.21.1 in c:\\users\\wmnl\\anaconda3\\envs\\pycorrector\\lib\\site-packages (from requests>=2.3.0->autosub==0.4.0) (1.26.12)\n",
      "Requirement already satisfied: charset-normalizer<3,>=2 in c:\\users\\wmnl\\anaconda3\\envs\\pycorrector\\lib\\site-packages (from requests>=2.3.0->autosub==0.4.0) (2.1.1)\n",
      "Requirement already satisfied: idna<4,>=2.5 in c:\\users\\wmnl\\anaconda3\\envs\\pycorrector\\lib\\site-packages (from requests>=2.3.0->autosub==0.4.0) (2.10)\n",
      "Requirement already satisfied: certifi>=2017.4.17 in c:\\users\\wmnl\\anaconda3\\envs\\pycorrector\\lib\\site-packages (from requests>=2.3.0->autosub==0.4.0) (2022.6.15)\n",
      "Requirement already satisfied: protobuf<5.0.0dev,>=3.20.1 in c:\\users\\wmnl\\anaconda3\\envs\\pycorrector\\lib\\site-packages (from google-api-core!=2.0.*,!=2.1.*,!=2.2.*,!=2.3.0,<3.0.0dev,>=1.31.5->google-api-python-client>=1.4.2->autosub==0.4.0) (3.20.2)\n",
      "Requirement already satisfied: googleapis-common-protos<2.0dev,>=1.56.2 in c:\\users\\wmnl\\anaconda3\\envs\\pycorrector\\lib\\site-packages (from google-api-core!=2.0.*,!=2.1.*,!=2.2.*,!=2.3.0,<3.0.0dev,>=1.31.5->google-api-python-client>=1.4.2->autosub==0.4.0) (1.56.4)\n",
      "Requirement already satisfied: cachetools<6.0,>=2.0.0 in c:\\users\\wmnl\\anaconda3\\envs\\pycorrector\\lib\\site-packages (from google-auth<3.0.0dev,>=1.19.0->google-api-python-client>=1.4.2->autosub==0.4.0) (5.2.0)\n",
      "Requirement already satisfied: pyasn1-modules>=0.2.1 in c:\\users\\wmnl\\anaconda3\\envs\\pycorrector\\lib\\site-packages (from google-auth<3.0.0dev,>=1.19.0->google-api-python-client>=1.4.2->autosub==0.4.0) (0.2.8)\n",
      "Requirement already satisfied: rsa<5,>=3.1.4 in c:\\users\\wmnl\\anaconda3\\envs\\pycorrector\\lib\\site-packages (from google-auth<3.0.0dev,>=1.19.0->google-api-python-client>=1.4.2->autosub==0.4.0) (4.9)\n",
      "Requirement already satisfied: pyparsing!=3.0.0,!=3.0.1,!=3.0.2,!=3.0.3,<4,>=2.4.2 in c:\\users\\wmnl\\anaconda3\\envs\\pycorrector\\lib\\site-packages (from httplib2<1dev,>=0.15.0->google-api-python-client>=1.4.2->autosub==0.4.0) (3.0.9)\n",
      "Requirement already satisfied: pyasn1<0.5.0,>=0.4.6 in c:\\users\\wmnl\\anaconda3\\envs\\pycorrector\\lib\\site-packages (from pyasn1-modules>=0.2.1->google-auth<3.0.0dev,>=1.19.0->google-api-python-client>=1.4.2->autosub==0.4.0) (0.4.8)\n"
     ]
    },
    {
     "name": "stderr",
     "output_type": "stream",
     "text": [
      "  Running command git clone --filter=blob:none --quiet https://github.com/agermanidis/autosub.git 'C:\\Users\\WMNL\\AppData\\Local\\Temp\\pip-req-build-z6kah7iu'\n"
     ]
    }
   ],
   "source": [
    "!pip3 install git+https://github.com/agermanidis/autosub.git"
   ]
  },
  {
   "cell_type": "code",
   "execution_count": 2,
   "id": "9ccfd392",
   "metadata": {},
   "outputs": [
    {
     "name": "stdout",
     "output_type": "stream",
     "text": [
      "usage: autosub [-h] [-C CONCURRENCY] [-o OUTPUT] [-F FORMAT] [-S SRC_LANGUAGE]\n",
      "               [-D DST_LANGUAGE] [-K API_KEY] [--list-formats]\n",
      "               [--list-languages]\n",
      "               [source_path]\n",
      "\n",
      "positional arguments:\n",
      "  source_path           Path to the video or audio file to subtitle\n",
      "\n",
      "optional arguments:\n",
      "  -h, --help            show this help message and exit\n",
      "  -C CONCURRENCY, --concurrency CONCURRENCY\n",
      "                        Number of concurrent API requests to make\n",
      "  -o OUTPUT, --output OUTPUT\n",
      "                        Output path for subtitles (by default, subtitles are\n",
      "                        saved in the same directory and name as the source\n",
      "                        path)\n",
      "  -F FORMAT, --format FORMAT\n",
      "                        Destination subtitle format\n",
      "  -S SRC_LANGUAGE, --src-language SRC_LANGUAGE\n",
      "                        Language spoken in source file\n",
      "  -D DST_LANGUAGE, --dst-language DST_LANGUAGE\n",
      "                        Desired language for the subtitles\n",
      "  -K API_KEY, --api-key API_KEY\n",
      "                        The Google Translate API key to be used. (Required for\n",
      "                        subtitle translation)\n",
      "  --list-formats        List all available subtitle formats\n",
      "  --list-languages      List all available source/destination languages\n"
     ]
    }
   ],
   "source": [
    "!autosub -h"
   ]
  },
  {
   "cell_type": "code",
   "execution_count": 11,
   "id": "05ae26ab",
   "metadata": {},
   "outputs": [
    {
     "name": "stdout",
     "output_type": "stream",
     "text": [
      "Subtitles file created at .\\0409_1-4.srt\n"
     ]
    },
    {
     "name": "stderr",
     "output_type": "stream",
     "text": [
      "\n",
      "Converting speech regions to FLAC files:   0% |                | ETA:  --:--:--\n",
      "Converting speech regions to FLAC files:   0% |                | ETA:  --:--:--\n",
      "Converting speech regions to FLAC files: 100% |################| Time:  0:00:01\n",
      "\n",
      "Performing speech recognition:   0% |                          | ETA:  --:--:--\n",
      "Performing speech recognition:   0% |                          | ETA:  --:--:--\n",
      "Performing speech recognition:  10% |##                        | ETA:   0:00:03\n",
      "Performing speech recognition:  17% |####                      | ETA:   0:00:06\n",
      "Performing speech recognition:  55% |##############            | ETA:   0:00:01\n",
      "Performing speech recognition:  58% |###############           | ETA:   0:00:01\n",
      "Performing speech recognition:  72% |##################        | ETA:   0:00:01\n",
      "Performing speech recognition:  96% |######################### | ETA:   0:00:00\n",
      "Performing speech recognition: 100% |##########################| Time:  0:00:03\n"
     ]
    }
   ],
   "source": [
    "#https://www.cnpython.com/qa/1372020\n",
    "import glob \n",
    "#讀取wav\n",
    "wav_files = r\"./*.wav\"\n",
    "wav_files = glob.glob(wav_files)\n",
    "for wav_file in wav_files:\n",
    "    !autosub -S zh-CN -D zh-CN {wav_file}"
   ]
  },
  {
   "cell_type": "code",
   "execution_count": 1,
   "id": "73b50fec",
   "metadata": {},
   "outputs": [
    {
     "name": "stdout",
     "output_type": "stream",
     "text": [
      "Collecting pysrt\n",
      "  Downloading pysrt-1.1.2.tar.gz (104 kB)\n",
      "     ------------------------------------ 104.4/104.4 kB 376.5 kB/s eta 0:00:00\n",
      "  Preparing metadata (setup.py): started\n",
      "  Preparing metadata (setup.py): finished with status 'done'\n",
      "Collecting chardet\n",
      "  Downloading chardet-5.0.0-py3-none-any.whl (193 kB)\n",
      "     ------------------------------------ 193.6/193.6 kB 841.2 kB/s eta 0:00:00\n",
      "Building wheels for collected packages: pysrt\n",
      "  Building wheel for pysrt (setup.py): started\n",
      "  Building wheel for pysrt (setup.py): finished with status 'done'\n",
      "  Created wheel for pysrt: filename=pysrt-1.1.2-py3-none-any.whl size=13444 sha256=4ac16a2870b8c27779eab2e67a0b3ffea6c7499fc3f6a4a44e85213a1345d837\n",
      "  Stored in directory: c:\\users\\wmnl\\appdata\\local\\pip\\cache\\wheels\\30\\a6\\ab\\4705174e11f44e74d58c14b32edbacbc852644f86658316aef\n",
      "Successfully built pysrt\n",
      "Installing collected packages: chardet, pysrt\n",
      "Successfully installed chardet-5.0.0 pysrt-1.1.2\n"
     ]
    }
   ],
   "source": [
    "!pip install pysrt"
   ]
  },
  {
   "cell_type": "code",
   "execution_count": 6,
   "id": "f1eafe5f",
   "metadata": {},
   "outputs": [
    {
     "name": "stdout",
     "output_type": "stream",
     "text": [
      "Requirement already satisfied: ffmpeg in c:\\users\\wmnl\\anaconda3\\envs\\pycorrector\\lib\\site-packages (1.4)\n"
     ]
    }
   ],
   "source": [
    "!pip install ffmpeg"
   ]
  },
  {
   "cell_type": "code",
   "execution_count": 8,
   "id": "0ea8b425",
   "metadata": {},
   "outputs": [
    {
     "name": "stdout",
     "output_type": "stream",
     "text": [
      "Collecting opencc\n",
      "  Downloading OpenCC-1.1.1-py2.py3-none-win_amd64.whl (726 kB)\n",
      "     ------------------------------------ 726.1/726.1 kB 973.9 kB/s eta 0:00:00\n",
      "Installing collected packages: opencc\n",
      "Successfully installed opencc-1.1.1\n"
     ]
    }
   ],
   "source": [
    "!pip install opencc"
   ]
  },
  {
   "cell_type": "code",
   "execution_count": 18,
   "id": "82ee6cdb",
   "metadata": {},
   "outputs": [
    {
     "name": "stdout",
     "output_type": "stream",
     "text": [
      "Requirement already satisfied: moviepy in c:\\users\\wmnl\\anaconda3\\envs\\pycorrector\\lib\\site-packages (1.0.3)\n",
      "Requirement already satisfied: tqdm<5.0,>=4.11.2 in c:\\users\\wmnl\\anaconda3\\envs\\pycorrector\\lib\\site-packages (from moviepy) (4.64.1)\n",
      "Requirement already satisfied: proglog<=1.0.0 in c:\\users\\wmnl\\anaconda3\\envs\\pycorrector\\lib\\site-packages (from moviepy) (0.1.10)\n",
      "Requirement already satisfied: imageio<3.0,>=2.5 in c:\\users\\wmnl\\anaconda3\\envs\\pycorrector\\lib\\site-packages (from moviepy) (2.21.3)\n",
      "Requirement already satisfied: numpy>=1.17.3 in c:\\users\\wmnl\\anaconda3\\envs\\pycorrector\\lib\\site-packages\\numpy-1.23.2-py3.8-win-amd64.egg (from moviepy) (1.23.2)\n",
      "Requirement already satisfied: requests<3.0,>=2.8.1 in c:\\users\\wmnl\\anaconda3\\envs\\pycorrector\\lib\\site-packages (from moviepy) (2.28.1)\n",
      "Requirement already satisfied: imageio-ffmpeg>=0.2.0 in c:\\users\\wmnl\\anaconda3\\envs\\pycorrector\\lib\\site-packages (from moviepy) (0.4.7)\n",
      "Requirement already satisfied: decorator<5.0,>=4.0.2 in c:\\users\\wmnl\\anaconda3\\envs\\pycorrector\\lib\\site-packages (from moviepy) (4.4.2)\n",
      "Requirement already satisfied: pillow>=8.3.2 in c:\\users\\wmnl\\anaconda3\\envs\\pycorrector\\lib\\site-packages (from imageio<3.0,>=2.5->moviepy) (9.2.0)\n",
      "Requirement already satisfied: urllib3<1.27,>=1.21.1 in c:\\users\\wmnl\\anaconda3\\envs\\pycorrector\\lib\\site-packages (from requests<3.0,>=2.8.1->moviepy) (1.26.12)\n",
      "Requirement already satisfied: idna<4,>=2.5 in c:\\users\\wmnl\\anaconda3\\envs\\pycorrector\\lib\\site-packages (from requests<3.0,>=2.8.1->moviepy) (3.3)\n",
      "Requirement already satisfied: certifi>=2017.4.17 in c:\\users\\wmnl\\anaconda3\\envs\\pycorrector\\lib\\site-packages (from requests<3.0,>=2.8.1->moviepy) (2022.6.15)\n",
      "Requirement already satisfied: charset-normalizer<3,>=2 in c:\\users\\wmnl\\anaconda3\\envs\\pycorrector\\lib\\site-packages (from requests<3.0,>=2.8.1->moviepy) (2.1.1)\n",
      "Requirement already satisfied: colorama in c:\\users\\wmnl\\anaconda3\\envs\\pycorrector\\lib\\site-packages (from tqdm<5.0,>=4.11.2->moviepy) (0.4.5)\n"
     ]
    }
   ],
   "source": [
    "!pip install moviepy --upgrade"
   ]
  },
  {
   "cell_type": "code",
   "execution_count": 12,
   "id": "b19ae2e6",
   "metadata": {},
   "outputs": [
    {
     "name": "stdout",
     "output_type": "stream",
     "text": [
      "['.\\\\0409_1-4.srt']\n"
     ]
    }
   ],
   "source": [
    "import glob \n",
    "\n",
    "#讀取srt\n",
    "srt_files = r\"./*.srt\"\n",
    "srt_files = glob.glob(srt_files)\n",
    "print(srt_files)"
   ]
  },
  {
   "cell_type": "code",
   "execution_count": 14,
   "id": "981db1ea",
   "metadata": {},
   "outputs": [
    {
     "name": "stderr",
     "output_type": "stream",
     "text": [
      "2022-09-22 22:20:45.003 | DEBUG    | pycorrector.macbert.macbert_corrector:__init__:55 - Use device: cpu\n",
      "2022-09-22 22:20:45.003 | DEBUG    | pycorrector.macbert.macbert_corrector:__init__:56 - Loaded macbert4csc model: ./output/macbert4csc/, spend: 1.022 s.\n"
     ]
    },
    {
     "name": "stdout",
     "output_type": "stream",
     "text": [
      "1\n",
      "00:00:00,256 --> 00:00:00,768\n",
      "情境感覺\n",
      "\n",
      "2\n",
      "00:00:01,024 --> 00:00:01,536\n",
      "沒開寄東西\n",
      "\n",
      "3\n",
      "00:00:01,792 --> 00:00:02,304\n",
      "蔣少宏\n",
      "\n",
      "4\n",
      "00:00:02,560 --> 00:00:03,072\n",
      "首作為這個\n",
      "\n",
      "5\n",
      "00:00:03,840 --> 00:00:04,608\n",
      "一個先發布\n",
      "\n",
      "6\n",
      "00:00:06,656 --> 00:00:10,752\n",
      "他說在左半邊的飛球最後用手套\n",
      "\n",
      "7\n",
      "00:00:11,008 --> 00:00:12,544\n",
      "好骨力\n",
      "\n",
      "8\n",
      "00:00:12,800 --> 00:00:15,872\n",
      "往前來追求最後把金貝球\n",
      "\n",
      "9\n",
      "00:00:19,200 --> 00:00:20,480\n",
      "優雅撞球心得\n",
      "\n",
      "10\n",
      "00:00:20,992 --> 00:00:22,528\n",
      "比較差啦\n",
      "\n",
      "11\n",
      "00:00:22,784 --> 00:00:24,320\n",
      "有點扇朝防水過去\n",
      "\n",
      "12\n",
      "00:00:25,856 --> 00:00:28,160\n",
      "很強調她在\n",
      "\n",
      "13\n",
      "00:00:28,416 --> 00:00:29,184\n",
      "公幾歲\n",
      "\n",
      "14\n",
      "00:00:29,440 --> 00:00:32,000\n",
      "商業和其他的事就一定在球上\n",
      "\n",
      "15\n",
      "00:00:32,512 --> 00:00:35,840\n",
      "回出去的孩子看的他的他是你說的那的上面\n",
      "\n",
      "16\n",
      "00:00:36,096 --> 00:00:36,864\n",
      "大度有超出\n",
      "\n",
      "17\n",
      "00:00:38,912 --> 00:00:45,056\n",
      "機器打不著在左半邊的聲音非常來到警界高國麟\n",
      "\n",
      "18\n",
      "00:00:45,312 --> 00:00:51,456\n",
      "一個人秀了以後都沒有\n",
      "\n",
      "19\n",
      "00:00:52,224 --> 00:00:55,808\n",
      "減少哪個手難度比較低比較高\n",
      "\n",
      "20\n",
      "00:00:56,064 --> 00:00:57,088\n",
      "日本又更紮著\n",
      "\n",
      "21\n",
      "00:00:58,368 --> 00:01:03,232\n",
      "好受到風景的影響這哥小飛外傳\n",
      "\n",
      "22\n",
      "00:01:03,744 --> 00:01:07,840\n",
      "但最後他還是生長他自己的手機把這的手順利接近什麼\n",
      "\n",
      "23\n",
      "00:01:08,096 --> 00:01:12,448\n",
      "正著啦剛之間的一個距離拿捏也很到位\n",
      "\n"
     ]
    }
   ],
   "source": [
    "import pysrt\n",
    "from opencc import OpenCC\n",
    "\n",
    "import pycorrector\n",
    "from pycorrector.macbert.macbert_corrector import MacBertCorrector\n",
    "\n",
    "model = MacBertCorrector(\"./output/macbert4csc/\")\n",
    "\n",
    "for srt_file in srt_files:\n",
    "    subs = pysrt.open(srt_file)\n",
    "    cc = OpenCC('s2tw')\n",
    "    for i in range (len(subs)): #srt檔中每一句\n",
    "        content = subs.data[i]\n",
    "        text = content.text     #原本內容\n",
    "        text = cc.convert(text) #翻譯\n",
    "#        print(text)\n",
    "        correct_sent, err = model.macbert_correct(text) \n",
    "#         print(\"修改:{} => {}\".format(text, pycorrector.simplified2traditional(correct_sent)))\n",
    "#         print(\"原句:{}\".format(text))\n",
    "#         print(\"-\"*100)\n",
    "        content.text = pycorrector.simplified2traditional(correct_sent) #更改內容\n",
    "        subs.data[i] = content\n",
    "        print(subs.data[i])\n",
    "    subs.save(srt_file, encoding='utf-8')"
   ]
  },
  {
   "cell_type": "code",
   "execution_count": 1,
   "id": "746b4594",
   "metadata": {},
   "outputs": [
    {
     "name": "stdout",
     "output_type": "stream",
     "text": [
      "['.\\\\0409_1-4.srt']\n",
      "['.\\\\0409_1-4.mp4']\n"
     ]
    }
   ],
   "source": [
    "import glob \n",
    "#讀取srt\n",
    "srt_files = r\"./*.srt\"\n",
    "srt_files = glob.glob(srt_files)\n",
    "print(srt_files)\n",
    "#讀取vedio\n",
    "vedio_paths = r\"./*.mp4\"\n",
    "vedio_paths = glob.glob(vedio_paths)\n",
    "print(vedio_paths)"
   ]
  },
  {
   "cell_type": "code",
   "execution_count": 2,
   "id": "be0a9eca",
   "metadata": {},
   "outputs": [],
   "source": [
    "# #時轉秒\n",
    "# def t2s(t):\n",
    "#     t = str(t)\n",
    "#     t = t[:-4] #去分秒\n",
    "#     h,m,s = t.strip().split(\":\")\n",
    "#     return int(h) * 3600 + int(m) * 60 + int(s)"
   ]
  },
  {
   "cell_type": "code",
   "execution_count": 2,
   "id": "491b035f",
   "metadata": {},
   "outputs": [],
   "source": [
    "def check(i,j,value):\n",
    "        if i < value < j:\n",
    "            return False\n",
    "        return True"
   ]
  },
  {
   "cell_type": "code",
   "execution_count": 3,
   "id": "7ea5f779",
   "metadata": {},
   "outputs": [],
   "source": [
    "def t2s(t):\n",
    "    t = str(t)\n",
    "    ms = ('0.'+t[9:]) #分秒\n",
    "    t = t[:-4] #去分秒\n",
    "    h,m,s = t.strip().split(\":\")\n",
    "    second = int(h) * 3600 + int(m) * 60 + int(s) + float(ms)\n",
    "    return second"
   ]
  },
  {
   "cell_type": "code",
   "execution_count": 4,
   "id": "0c5fcc00",
   "metadata": {
    "scrolled": false
   },
   "outputs": [
    {
     "name": "stdout",
     "output_type": "stream",
     "text": [
      ".\\0409_1-4.srt .\\0409_1-4.mp4\n",
      "情境感覺\n",
      "第1句:\n",
      "時間長度: 00:00:00,512\n",
      "起始時間: 00:00:00,256\n",
      "結束時間: 00:00:00,768\n",
      "非撲接語句\n",
      " \n",
      "沒開寄東西\n",
      "第2句:\n",
      "時間長度: 00:00:00,512\n",
      "起始時間: 00:00:01,024\n",
      "結束時間: 00:00:01,536\n",
      "非撲接語句\n",
      " \n",
      "蔣少宏\n",
      "第3句:\n",
      "時間長度: 00:00:00,512\n",
      "起始時間: 00:00:01,792\n",
      "結束時間: 00:00:02,304\n",
      "非撲接語句\n",
      " \n",
      "首作為這個\n",
      "第4句:\n",
      "時間長度: 00:00:00,512\n",
      "起始時間: 00:00:02,560\n",
      "結束時間: 00:00:03,072\n",
      "非撲接語句\n",
      " \n",
      "一個先發布\n",
      "第5句:\n",
      "時間長度: 00:00:00,768\n",
      "起始時間: 00:00:03,840\n",
      "結束時間: 00:00:04,608\n",
      "非撲接語句\n",
      " \n",
      "他說在左半邊的飛球最後用手套\n",
      "第6句:\n",
      "時間長度: 00:00:04,096\n",
      "起始時間: 00:00:06,656\n",
      "結束時間: 00:00:10,752\n",
      "為撲接語句\n",
      "判斷式1\n",
      "[] []\n",
      "1.6559999999999997 19.656\n",
      "Moviepy - Building video ./剪輯後影片(18秒)/撲接片段_1.mp4.\n",
      "MoviePy - Writing audio in temp-audio1.m4a\n"
     ]
    },
    {
     "name": "stderr",
     "output_type": "stream",
     "text": [
      "                                                                                                                       \r"
     ]
    },
    {
     "name": "stdout",
     "output_type": "stream",
     "text": [
      "MoviePy - Done.\n",
      "Moviepy - Writing video ./剪輯後影片(18秒)/撲接片段_1.mp4\n",
      "\n"
     ]
    },
    {
     "name": "stderr",
     "output_type": "stream",
     "text": [
      "                                                                                                                       \r"
     ]
    },
    {
     "name": "stdout",
     "output_type": "stream",
     "text": [
      "Moviepy - Done !\n",
      "Moviepy - video ready ./剪輯後影片(18秒)/撲接片段_1.mp4\n",
      " \n",
      "好骨力\n",
      "第7句:\n",
      "時間長度: 00:00:01,536\n",
      "起始時間: 00:00:11,008\n",
      "結束時間: 00:00:12,544\n",
      "非撲接語句\n",
      " \n",
      "往前來追求最後把金貝球\n",
      "第8句:\n",
      "時間長度: 00:00:03,072\n",
      "起始時間: 00:00:12,800\n",
      "結束時間: 00:00:15,872\n",
      "非撲接語句\n",
      " \n",
      "優雅撞球心得\n",
      "第9句:\n",
      "時間長度: 00:00:01,280\n",
      "起始時間: 00:00:19,200\n",
      "結束時間: 00:00:20,480\n",
      "非撲接語句\n",
      " \n",
      "比較差啦\n",
      "第10句:\n",
      "時間長度: 00:00:01,536\n",
      "起始時間: 00:00:20,992\n",
      "結束時間: 00:00:22,528\n",
      "非撲接語句\n",
      " \n",
      "有點扇朝防水過去\n",
      "第11句:\n",
      "時間長度: 00:00:01,536\n",
      "起始時間: 00:00:22,784\n",
      "結束時間: 00:00:24,320\n",
      "非撲接語句\n",
      " \n",
      "很強調她在\n",
      "第12句:\n",
      "時間長度: 00:00:02,304\n",
      "起始時間: 00:00:25,856\n",
      "結束時間: 00:00:28,160\n",
      "非撲接語句\n",
      " \n",
      "公幾歲\n",
      "第13句:\n",
      "時間長度: 00:00:00,768\n",
      "起始時間: 00:00:28,416\n",
      "結束時間: 00:00:29,184\n",
      "非撲接語句\n",
      " \n",
      "商業和其他的事就一定在球上\n",
      "第14句:\n",
      "時間長度: 00:00:02,560\n",
      "起始時間: 00:00:29,440\n",
      "結束時間: 00:00:32,000\n",
      "非撲接語句\n",
      " \n",
      "回出去的孩子看的他的他是你說的那的上面\n",
      "第15句:\n",
      "時間長度: 00:00:03,328\n",
      "起始時間: 00:00:32,512\n",
      "結束時間: 00:00:35,840\n",
      "非撲接語句\n",
      " \n",
      "大度有超出\n",
      "第16句:\n",
      "時間長度: 00:00:00,768\n",
      "起始時間: 00:00:36,096\n",
      "結束時間: 00:00:36,864\n",
      "非撲接語句\n",
      " \n",
      "機器打不著在左半邊的聲音非常來到警界高國麟\n",
      "第17句:\n",
      "時間長度: 00:00:06,144\n",
      "起始時間: 00:00:38,912\n",
      "結束時間: 00:00:45,056\n",
      "非撲接語句\n",
      " \n",
      "一個人秀了以後都沒有\n",
      "第18句:\n",
      "時間長度: 00:00:06,144\n",
      "起始時間: 00:00:45,312\n",
      "結束時間: 00:00:51,456\n",
      "非撲接語句\n",
      " \n",
      "減少哪個手難度比較低比較高\n",
      "第19句:\n",
      "時間長度: 00:00:03,584\n",
      "起始時間: 00:00:52,224\n",
      "結束時間: 00:00:55,808\n",
      "非撲接語句\n",
      " \n",
      "日本又更紮著\n",
      "第20句:\n",
      "時間長度: 00:00:01,024\n",
      "起始時間: 00:00:56,064\n",
      "結束時間: 00:00:57,088\n",
      "非撲接語句\n",
      " \n",
      "好受到風景的影響這哥小飛外傳\n",
      "第21句:\n",
      "時間長度: 00:00:04,864\n",
      "起始時間: 00:00:58,368\n",
      "結束時間: 00:01:03,232\n",
      "非撲接語句\n",
      " \n",
      "但最後他還是生長他自己的手機把這的手順利接近什麼\n",
      "第22句:\n",
      "時間長度: 00:00:04,096\n",
      "起始時間: 00:01:03,744\n",
      "結束時間: 00:01:07,840\n",
      "為撲接語句\n",
      "0\n",
      "1.6559999999999997 19.656\n",
      "[True, True]\n",
      "58.744 76.744\n",
      "Moviepy - Building video ./剪輯後影片(18秒)/撲接片段_2.mp4.\n",
      "MoviePy - Writing audio in temp-audio1.m4a\n"
     ]
    },
    {
     "name": "stderr",
     "output_type": "stream",
     "text": [
      "chunk:  39%|████████████████████████                                      | 154/397 [00:00<00:00, 783.39it/s, now=None]"
     ]
    },
    {
     "ename": "OSError",
     "evalue": "Error in file .\\0409_1-4.mp4, Accessing time t=72.80-72.84 seconds, with clip duration=72 seconds, ",
     "output_type": "error",
     "traceback": [
      "\u001b[1;31m---------------------------------------------------------------------------\u001b[0m",
      "\u001b[1;31mOSError\u001b[0m                                   Traceback (most recent call last)",
      "Cell \u001b[1;32mIn [4], line 62\u001b[0m\n\u001b[0;32m     60\u001b[0m             video \u001b[38;5;241m=\u001b[39m VideoFileClip(vedio_path) \n\u001b[0;32m     61\u001b[0m             output \u001b[38;5;241m=\u001b[39m video\u001b[38;5;241m.\u001b[39msubclip(start,end)                 \u001b[38;5;66;03m# 剪輯影片 ( 單位秒 ) 差不多前後各10秒\u001b[39;00m\n\u001b[1;32m---> 62\u001b[0m             \u001b[43moutput\u001b[49m\u001b[38;5;241;43m.\u001b[39;49m\u001b[43mwrite_videofile\u001b[49m\u001b[43m(\u001b[49m\u001b[38;5;124;43m\"\u001b[39;49m\u001b[38;5;124;43m./剪輯後影片(18秒)/撲接片段_\u001b[39;49m\u001b[38;5;132;43;01m{}\u001b[39;49;00m\u001b[38;5;124;43m.mp4\u001b[39;49m\u001b[38;5;124;43m\"\u001b[39;49m\u001b[38;5;241;43m.\u001b[39;49m\u001b[43mformat\u001b[49m\u001b[43m(\u001b[49m\u001b[43mcount\u001b[49m\u001b[43m)\u001b[49m\u001b[43m,\u001b[49m\u001b[43mtemp_audiofile\u001b[49m\u001b[38;5;241;43m=\u001b[39;49m\u001b[38;5;124;43m\"\u001b[39;49m\u001b[38;5;124;43mtemp-audio1.m4a\u001b[39;49m\u001b[38;5;124;43m\"\u001b[39;49m\u001b[43m,\u001b[49m\u001b[43m \u001b[49m\u001b[43mremove_temp\u001b[49m\u001b[38;5;241;43m=\u001b[39;49m\u001b[38;5;28;43;01mTrue\u001b[39;49;00m\u001b[43m,\u001b[49m\u001b[43m \u001b[49m\u001b[43mcodec\u001b[49m\u001b[38;5;241;43m=\u001b[39;49m\u001b[38;5;124;43m\"\u001b[39;49m\u001b[38;5;124;43mlibx264\u001b[39;49m\u001b[38;5;124;43m\"\u001b[39;49m\u001b[43m,\u001b[49m\u001b[43m \u001b[49m\u001b[43maudio_codec\u001b[49m\u001b[38;5;241;43m=\u001b[39;49m\u001b[38;5;124;43m\"\u001b[39;49m\u001b[38;5;124;43maac\u001b[39;49m\u001b[38;5;124;43m\"\u001b[39;49m\u001b[43m)\u001b[49m  \n\u001b[0;32m     63\u001b[0m \u001b[38;5;28;01melse\u001b[39;00m:\n\u001b[0;32m     64\u001b[0m     \u001b[38;5;28mprint\u001b[39m(\u001b[38;5;124m'\u001b[39m\u001b[38;5;124m非撲接語句\u001b[39m\u001b[38;5;124m'\u001b[39m)\n",
      "File \u001b[1;32m<decorator-gen-73>:2\u001b[0m, in \u001b[0;36mwrite_videofile\u001b[1;34m(self, filename, fps, codec, bitrate, audio, audio_fps, preset, audio_nbytes, audio_codec, audio_bitrate, audio_bufsize, temp_audiofile, rewrite_audio, remove_temp, write_logfile, verbose, threads, ffmpeg_params, logger)\u001b[0m\n",
      "File \u001b[1;32m~\\anaconda3\\envs\\pycorrector\\lib\\site-packages\\moviepy\\decorators.py:54\u001b[0m, in \u001b[0;36mrequires_duration\u001b[1;34m(f, clip, *a, **k)\u001b[0m\n\u001b[0;32m     52\u001b[0m     \u001b[38;5;28;01mraise\u001b[39;00m \u001b[38;5;167;01mValueError\u001b[39;00m(\u001b[38;5;124m\"\u001b[39m\u001b[38;5;124mAttribute \u001b[39m\u001b[38;5;124m'\u001b[39m\u001b[38;5;124mduration\u001b[39m\u001b[38;5;124m'\u001b[39m\u001b[38;5;124m not set\u001b[39m\u001b[38;5;124m\"\u001b[39m)\n\u001b[0;32m     53\u001b[0m \u001b[38;5;28;01melse\u001b[39;00m:\n\u001b[1;32m---> 54\u001b[0m     \u001b[38;5;28;01mreturn\u001b[39;00m \u001b[43mf\u001b[49m\u001b[43m(\u001b[49m\u001b[43mclip\u001b[49m\u001b[43m,\u001b[49m\u001b[43m \u001b[49m\u001b[38;5;241;43m*\u001b[39;49m\u001b[43ma\u001b[49m\u001b[43m,\u001b[49m\u001b[43m \u001b[49m\u001b[38;5;241;43m*\u001b[39;49m\u001b[38;5;241;43m*\u001b[39;49m\u001b[43mk\u001b[49m\u001b[43m)\u001b[49m\n",
      "File \u001b[1;32m<decorator-gen-72>:2\u001b[0m, in \u001b[0;36mwrite_videofile\u001b[1;34m(self, filename, fps, codec, bitrate, audio, audio_fps, preset, audio_nbytes, audio_codec, audio_bitrate, audio_bufsize, temp_audiofile, rewrite_audio, remove_temp, write_logfile, verbose, threads, ffmpeg_params, logger)\u001b[0m\n",
      "File \u001b[1;32m~\\anaconda3\\envs\\pycorrector\\lib\\site-packages\\moviepy\\decorators.py:135\u001b[0m, in \u001b[0;36muse_clip_fps_by_default\u001b[1;34m(f, clip, *a, **k)\u001b[0m\n\u001b[0;32m    130\u001b[0m new_a \u001b[38;5;241m=\u001b[39m [fun(arg) \u001b[38;5;28;01mif\u001b[39;00m (name\u001b[38;5;241m==\u001b[39m\u001b[38;5;124m'\u001b[39m\u001b[38;5;124mfps\u001b[39m\u001b[38;5;124m'\u001b[39m) \u001b[38;5;28;01melse\u001b[39;00m arg\n\u001b[0;32m    131\u001b[0m          \u001b[38;5;28;01mfor\u001b[39;00m (arg, name) \u001b[38;5;129;01min\u001b[39;00m \u001b[38;5;28mzip\u001b[39m(a, names)]\n\u001b[0;32m    132\u001b[0m new_kw \u001b[38;5;241m=\u001b[39m {k: fun(v) \u001b[38;5;28;01mif\u001b[39;00m k\u001b[38;5;241m==\u001b[39m\u001b[38;5;124m'\u001b[39m\u001b[38;5;124mfps\u001b[39m\u001b[38;5;124m'\u001b[39m \u001b[38;5;28;01melse\u001b[39;00m v\n\u001b[0;32m    133\u001b[0m          \u001b[38;5;28;01mfor\u001b[39;00m (k,v) \u001b[38;5;129;01min\u001b[39;00m k\u001b[38;5;241m.\u001b[39mitems()}\n\u001b[1;32m--> 135\u001b[0m \u001b[38;5;28;01mreturn\u001b[39;00m \u001b[43mf\u001b[49m\u001b[43m(\u001b[49m\u001b[43mclip\u001b[49m\u001b[43m,\u001b[49m\u001b[43m \u001b[49m\u001b[38;5;241;43m*\u001b[39;49m\u001b[43mnew_a\u001b[49m\u001b[43m,\u001b[49m\u001b[43m \u001b[49m\u001b[38;5;241;43m*\u001b[39;49m\u001b[38;5;241;43m*\u001b[39;49m\u001b[43mnew_kw\u001b[49m\u001b[43m)\u001b[49m\n",
      "File \u001b[1;32m<decorator-gen-71>:2\u001b[0m, in \u001b[0;36mwrite_videofile\u001b[1;34m(self, filename, fps, codec, bitrate, audio, audio_fps, preset, audio_nbytes, audio_codec, audio_bitrate, audio_bufsize, temp_audiofile, rewrite_audio, remove_temp, write_logfile, verbose, threads, ffmpeg_params, logger)\u001b[0m\n",
      "File \u001b[1;32m~\\anaconda3\\envs\\pycorrector\\lib\\site-packages\\moviepy\\decorators.py:22\u001b[0m, in \u001b[0;36mconvert_masks_to_RGB\u001b[1;34m(f, clip, *a, **k)\u001b[0m\n\u001b[0;32m     20\u001b[0m \u001b[38;5;28;01mif\u001b[39;00m clip\u001b[38;5;241m.\u001b[39mismask:\n\u001b[0;32m     21\u001b[0m     clip \u001b[38;5;241m=\u001b[39m clip\u001b[38;5;241m.\u001b[39mto_RGB()\n\u001b[1;32m---> 22\u001b[0m \u001b[38;5;28;01mreturn\u001b[39;00m \u001b[43mf\u001b[49m\u001b[43m(\u001b[49m\u001b[43mclip\u001b[49m\u001b[43m,\u001b[49m\u001b[43m \u001b[49m\u001b[38;5;241;43m*\u001b[39;49m\u001b[43ma\u001b[49m\u001b[43m,\u001b[49m\u001b[43m \u001b[49m\u001b[38;5;241;43m*\u001b[39;49m\u001b[38;5;241;43m*\u001b[39;49m\u001b[43mk\u001b[49m\u001b[43m)\u001b[49m\n",
      "File \u001b[1;32m~\\anaconda3\\envs\\pycorrector\\lib\\site-packages\\moviepy\\video\\VideoClip.py:293\u001b[0m, in \u001b[0;36mVideoClip.write_videofile\u001b[1;34m(self, filename, fps, codec, bitrate, audio, audio_fps, preset, audio_nbytes, audio_codec, audio_bitrate, audio_bufsize, temp_audiofile, rewrite_audio, remove_temp, write_logfile, verbose, threads, ffmpeg_params, logger)\u001b[0m\n\u001b[0;32m    291\u001b[0m logger(message\u001b[38;5;241m=\u001b[39m\u001b[38;5;124m\"\u001b[39m\u001b[38;5;124mMoviepy - Building video \u001b[39m\u001b[38;5;132;01m%s\u001b[39;00m\u001b[38;5;124m.\u001b[39m\u001b[38;5;124m\"\u001b[39m \u001b[38;5;241m%\u001b[39m filename)\n\u001b[0;32m    292\u001b[0m \u001b[38;5;28;01mif\u001b[39;00m make_audio:\n\u001b[1;32m--> 293\u001b[0m     \u001b[38;5;28;43mself\u001b[39;49m\u001b[38;5;241;43m.\u001b[39;49m\u001b[43maudio\u001b[49m\u001b[38;5;241;43m.\u001b[39;49m\u001b[43mwrite_audiofile\u001b[49m\u001b[43m(\u001b[49m\u001b[43maudiofile\u001b[49m\u001b[43m,\u001b[49m\u001b[43m \u001b[49m\u001b[43maudio_fps\u001b[49m\u001b[43m,\u001b[49m\n\u001b[0;32m    294\u001b[0m \u001b[43m                               \u001b[49m\u001b[43maudio_nbytes\u001b[49m\u001b[43m,\u001b[49m\u001b[43m \u001b[49m\u001b[43maudio_bufsize\u001b[49m\u001b[43m,\u001b[49m\n\u001b[0;32m    295\u001b[0m \u001b[43m                               \u001b[49m\u001b[43maudio_codec\u001b[49m\u001b[43m,\u001b[49m\u001b[43m \u001b[49m\u001b[43mbitrate\u001b[49m\u001b[38;5;241;43m=\u001b[39;49m\u001b[43maudio_bitrate\u001b[49m\u001b[43m,\u001b[49m\n\u001b[0;32m    296\u001b[0m \u001b[43m                               \u001b[49m\u001b[43mwrite_logfile\u001b[49m\u001b[38;5;241;43m=\u001b[39;49m\u001b[43mwrite_logfile\u001b[49m\u001b[43m,\u001b[49m\n\u001b[0;32m    297\u001b[0m \u001b[43m                               \u001b[49m\u001b[43mverbose\u001b[49m\u001b[38;5;241;43m=\u001b[39;49m\u001b[43mverbose\u001b[49m\u001b[43m,\u001b[49m\n\u001b[0;32m    298\u001b[0m \u001b[43m                               \u001b[49m\u001b[43mlogger\u001b[49m\u001b[38;5;241;43m=\u001b[39;49m\u001b[43mlogger\u001b[49m\u001b[43m)\u001b[49m\n\u001b[0;32m    300\u001b[0m ffmpeg_write_video(\u001b[38;5;28mself\u001b[39m, filename, fps, codec,\n\u001b[0;32m    301\u001b[0m                    bitrate\u001b[38;5;241m=\u001b[39mbitrate,\n\u001b[0;32m    302\u001b[0m                    preset\u001b[38;5;241m=\u001b[39mpreset,\n\u001b[1;32m   (...)\u001b[0m\n\u001b[0;32m    306\u001b[0m                    ffmpeg_params\u001b[38;5;241m=\u001b[39mffmpeg_params,\n\u001b[0;32m    307\u001b[0m                    logger\u001b[38;5;241m=\u001b[39mlogger)\n\u001b[0;32m    309\u001b[0m \u001b[38;5;28;01mif\u001b[39;00m remove_temp \u001b[38;5;129;01mand\u001b[39;00m make_audio:\n",
      "File \u001b[1;32m<decorator-gen-63>:2\u001b[0m, in \u001b[0;36mwrite_audiofile\u001b[1;34m(self, filename, fps, nbytes, buffersize, codec, bitrate, ffmpeg_params, write_logfile, verbose, logger)\u001b[0m\n",
      "File \u001b[1;32m~\\anaconda3\\envs\\pycorrector\\lib\\site-packages\\moviepy\\decorators.py:54\u001b[0m, in \u001b[0;36mrequires_duration\u001b[1;34m(f, clip, *a, **k)\u001b[0m\n\u001b[0;32m     52\u001b[0m     \u001b[38;5;28;01mraise\u001b[39;00m \u001b[38;5;167;01mValueError\u001b[39;00m(\u001b[38;5;124m\"\u001b[39m\u001b[38;5;124mAttribute \u001b[39m\u001b[38;5;124m'\u001b[39m\u001b[38;5;124mduration\u001b[39m\u001b[38;5;124m'\u001b[39m\u001b[38;5;124m not set\u001b[39m\u001b[38;5;124m\"\u001b[39m)\n\u001b[0;32m     53\u001b[0m \u001b[38;5;28;01melse\u001b[39;00m:\n\u001b[1;32m---> 54\u001b[0m     \u001b[38;5;28;01mreturn\u001b[39;00m \u001b[43mf\u001b[49m\u001b[43m(\u001b[49m\u001b[43mclip\u001b[49m\u001b[43m,\u001b[49m\u001b[43m \u001b[49m\u001b[38;5;241;43m*\u001b[39;49m\u001b[43ma\u001b[49m\u001b[43m,\u001b[49m\u001b[43m \u001b[49m\u001b[38;5;241;43m*\u001b[39;49m\u001b[38;5;241;43m*\u001b[39;49m\u001b[43mk\u001b[49m\u001b[43m)\u001b[49m\n",
      "File \u001b[1;32m~\\anaconda3\\envs\\pycorrector\\lib\\site-packages\\moviepy\\audio\\AudioClip.py:206\u001b[0m, in \u001b[0;36mAudioClip.write_audiofile\u001b[1;34m(self, filename, fps, nbytes, buffersize, codec, bitrate, ffmpeg_params, write_logfile, verbose, logger)\u001b[0m\n\u001b[0;32m    201\u001b[0m     \u001b[38;5;28;01mexcept\u001b[39;00m \u001b[38;5;167;01mKeyError\u001b[39;00m:\n\u001b[0;32m    202\u001b[0m         \u001b[38;5;28;01mraise\u001b[39;00m \u001b[38;5;167;01mValueError\u001b[39;00m(\u001b[38;5;124m\"\u001b[39m\u001b[38;5;124mMoviePy couldn\u001b[39m\u001b[38;5;124m'\u001b[39m\u001b[38;5;124mt find the codec associated \u001b[39m\u001b[38;5;124m\"\u001b[39m\n\u001b[0;32m    203\u001b[0m                          \u001b[38;5;124m\"\u001b[39m\u001b[38;5;124mwith the filename. Provide the \u001b[39m\u001b[38;5;124m'\u001b[39m\u001b[38;5;124mcodec\u001b[39m\u001b[38;5;124m'\u001b[39m\u001b[38;5;124m \u001b[39m\u001b[38;5;124m\"\u001b[39m\n\u001b[0;32m    204\u001b[0m                          \u001b[38;5;124m\"\u001b[39m\u001b[38;5;124mparameter in write_audiofile.\u001b[39m\u001b[38;5;124m\"\u001b[39m)\n\u001b[1;32m--> 206\u001b[0m \u001b[38;5;28;01mreturn\u001b[39;00m \u001b[43mffmpeg_audiowrite\u001b[49m\u001b[43m(\u001b[49m\u001b[38;5;28;43mself\u001b[39;49m\u001b[43m,\u001b[49m\u001b[43m \u001b[49m\u001b[43mfilename\u001b[49m\u001b[43m,\u001b[49m\u001b[43m \u001b[49m\u001b[43mfps\u001b[49m\u001b[43m,\u001b[49m\u001b[43m \u001b[49m\u001b[43mnbytes\u001b[49m\u001b[43m,\u001b[49m\u001b[43m \u001b[49m\u001b[43mbuffersize\u001b[49m\u001b[43m,\u001b[49m\n\u001b[0;32m    207\u001b[0m \u001b[43m                         \u001b[49m\u001b[43mcodec\u001b[49m\u001b[38;5;241;43m=\u001b[39;49m\u001b[43mcodec\u001b[49m\u001b[43m,\u001b[49m\u001b[43m \u001b[49m\u001b[43mbitrate\u001b[49m\u001b[38;5;241;43m=\u001b[39;49m\u001b[43mbitrate\u001b[49m\u001b[43m,\u001b[49m\n\u001b[0;32m    208\u001b[0m \u001b[43m                         \u001b[49m\u001b[43mwrite_logfile\u001b[49m\u001b[38;5;241;43m=\u001b[39;49m\u001b[43mwrite_logfile\u001b[49m\u001b[43m,\u001b[49m\u001b[43m \u001b[49m\u001b[43mverbose\u001b[49m\u001b[38;5;241;43m=\u001b[39;49m\u001b[43mverbose\u001b[49m\u001b[43m,\u001b[49m\n\u001b[0;32m    209\u001b[0m \u001b[43m                         \u001b[49m\u001b[43mffmpeg_params\u001b[49m\u001b[38;5;241;43m=\u001b[39;49m\u001b[43mffmpeg_params\u001b[49m\u001b[43m,\u001b[49m\n\u001b[0;32m    210\u001b[0m \u001b[43m                         \u001b[49m\u001b[43mlogger\u001b[49m\u001b[38;5;241;43m=\u001b[39;49m\u001b[43mlogger\u001b[49m\u001b[43m)\u001b[49m\n",
      "File \u001b[1;32m<decorator-gen-27>:2\u001b[0m, in \u001b[0;36mffmpeg_audiowrite\u001b[1;34m(clip, filename, fps, nbytes, buffersize, codec, bitrate, write_logfile, verbose, ffmpeg_params, logger)\u001b[0m\n",
      "File \u001b[1;32m~\\anaconda3\\envs\\pycorrector\\lib\\site-packages\\moviepy\\decorators.py:54\u001b[0m, in \u001b[0;36mrequires_duration\u001b[1;34m(f, clip, *a, **k)\u001b[0m\n\u001b[0;32m     52\u001b[0m     \u001b[38;5;28;01mraise\u001b[39;00m \u001b[38;5;167;01mValueError\u001b[39;00m(\u001b[38;5;124m\"\u001b[39m\u001b[38;5;124mAttribute \u001b[39m\u001b[38;5;124m'\u001b[39m\u001b[38;5;124mduration\u001b[39m\u001b[38;5;124m'\u001b[39m\u001b[38;5;124m not set\u001b[39m\u001b[38;5;124m\"\u001b[39m)\n\u001b[0;32m     53\u001b[0m \u001b[38;5;28;01melse\u001b[39;00m:\n\u001b[1;32m---> 54\u001b[0m     \u001b[38;5;28;01mreturn\u001b[39;00m \u001b[43mf\u001b[49m\u001b[43m(\u001b[49m\u001b[43mclip\u001b[49m\u001b[43m,\u001b[49m\u001b[43m \u001b[49m\u001b[38;5;241;43m*\u001b[39;49m\u001b[43ma\u001b[49m\u001b[43m,\u001b[49m\u001b[43m \u001b[49m\u001b[38;5;241;43m*\u001b[39;49m\u001b[38;5;241;43m*\u001b[39;49m\u001b[43mk\u001b[49m\u001b[43m)\u001b[49m\n",
      "File \u001b[1;32m~\\anaconda3\\envs\\pycorrector\\lib\\site-packages\\moviepy\\audio\\io\\ffmpeg_audiowriter.py:166\u001b[0m, in \u001b[0;36mffmpeg_audiowrite\u001b[1;34m(clip, filename, fps, nbytes, buffersize, codec, bitrate, write_logfile, verbose, ffmpeg_params, logger)\u001b[0m\n\u001b[0;32m    160\u001b[0m logger(message\u001b[38;5;241m=\u001b[39m\u001b[38;5;124m\"\u001b[39m\u001b[38;5;124mMoviePy - Writing audio in \u001b[39m\u001b[38;5;132;01m%s\u001b[39;00m\u001b[38;5;124m\"\u001b[39m \u001b[38;5;241m%\u001b[39m filename)\n\u001b[0;32m    161\u001b[0m writer \u001b[38;5;241m=\u001b[39m FFMPEG_AudioWriter(filename, fps, nbytes, clip\u001b[38;5;241m.\u001b[39mnchannels,\n\u001b[0;32m    162\u001b[0m                             codec\u001b[38;5;241m=\u001b[39mcodec, bitrate\u001b[38;5;241m=\u001b[39mbitrate,\n\u001b[0;32m    163\u001b[0m                             logfile\u001b[38;5;241m=\u001b[39mlogfile,\n\u001b[0;32m    164\u001b[0m                             ffmpeg_params\u001b[38;5;241m=\u001b[39mffmpeg_params)\n\u001b[1;32m--> 166\u001b[0m \u001b[38;5;28;01mfor\u001b[39;00m chunk \u001b[38;5;129;01min\u001b[39;00m clip\u001b[38;5;241m.\u001b[39miter_chunks(chunksize\u001b[38;5;241m=\u001b[39mbuffersize,\n\u001b[0;32m    167\u001b[0m                               quantize\u001b[38;5;241m=\u001b[39m\u001b[38;5;28;01mTrue\u001b[39;00m,\n\u001b[0;32m    168\u001b[0m                               nbytes\u001b[38;5;241m=\u001b[39mnbytes, fps\u001b[38;5;241m=\u001b[39mfps,\n\u001b[0;32m    169\u001b[0m                               logger\u001b[38;5;241m=\u001b[39mlogger):\n\u001b[0;32m    170\u001b[0m     writer\u001b[38;5;241m.\u001b[39mwrite_frames(chunk)\n\u001b[0;32m    172\u001b[0m writer\u001b[38;5;241m.\u001b[39mclose()\n",
      "File \u001b[1;32m~\\anaconda3\\envs\\pycorrector\\lib\\site-packages\\moviepy\\audio\\AudioClip.py:85\u001b[0m, in \u001b[0;36mAudioClip.iter_chunks\u001b[1;34m(self, chunksize, chunk_duration, fps, quantize, nbytes, logger)\u001b[0m\n\u001b[0;32m     83\u001b[0m \u001b[38;5;28;01massert\u001b[39;00m(size \u001b[38;5;241m<\u001b[39m\u001b[38;5;241m=\u001b[39m chunksize)\n\u001b[0;32m     84\u001b[0m tt \u001b[38;5;241m=\u001b[39m (\u001b[38;5;241m1.0\u001b[39m\u001b[38;5;241m/\u001b[39mfps)\u001b[38;5;241m*\u001b[39mnp\u001b[38;5;241m.\u001b[39marange(pospos[i], pospos[i\u001b[38;5;241m+\u001b[39m\u001b[38;5;241m1\u001b[39m])\n\u001b[1;32m---> 85\u001b[0m \u001b[38;5;28;01myield\u001b[39;00m \u001b[38;5;28;43mself\u001b[39;49m\u001b[38;5;241;43m.\u001b[39;49m\u001b[43mto_soundarray\u001b[49m\u001b[43m(\u001b[49m\u001b[43mtt\u001b[49m\u001b[43m,\u001b[49m\u001b[43m \u001b[49m\u001b[43mnbytes\u001b[49m\u001b[38;5;241;43m=\u001b[39;49m\u001b[43mnbytes\u001b[49m\u001b[43m,\u001b[49m\u001b[43m \u001b[49m\u001b[43mquantize\u001b[49m\u001b[38;5;241;43m=\u001b[39;49m\u001b[43mquantize\u001b[49m\u001b[43m,\u001b[49m\n\u001b[0;32m     86\u001b[0m \u001b[43m                            \u001b[49m\u001b[43mfps\u001b[49m\u001b[38;5;241;43m=\u001b[39;49m\u001b[43mfps\u001b[49m\u001b[43m,\u001b[49m\u001b[43m \u001b[49m\u001b[43mbuffersize\u001b[49m\u001b[38;5;241;43m=\u001b[39;49m\u001b[43mchunksize\u001b[49m\u001b[43m)\u001b[49m\n",
      "File \u001b[1;32m<decorator-gen-62>:2\u001b[0m, in \u001b[0;36mto_soundarray\u001b[1;34m(self, tt, fps, quantize, nbytes, buffersize)\u001b[0m\n",
      "File \u001b[1;32m~\\anaconda3\\envs\\pycorrector\\lib\\site-packages\\moviepy\\decorators.py:54\u001b[0m, in \u001b[0;36mrequires_duration\u001b[1;34m(f, clip, *a, **k)\u001b[0m\n\u001b[0;32m     52\u001b[0m     \u001b[38;5;28;01mraise\u001b[39;00m \u001b[38;5;167;01mValueError\u001b[39;00m(\u001b[38;5;124m\"\u001b[39m\u001b[38;5;124mAttribute \u001b[39m\u001b[38;5;124m'\u001b[39m\u001b[38;5;124mduration\u001b[39m\u001b[38;5;124m'\u001b[39m\u001b[38;5;124m not set\u001b[39m\u001b[38;5;124m\"\u001b[39m)\n\u001b[0;32m     53\u001b[0m \u001b[38;5;28;01melse\u001b[39;00m:\n\u001b[1;32m---> 54\u001b[0m     \u001b[38;5;28;01mreturn\u001b[39;00m \u001b[43mf\u001b[49m\u001b[43m(\u001b[49m\u001b[43mclip\u001b[49m\u001b[43m,\u001b[49m\u001b[43m \u001b[49m\u001b[38;5;241;43m*\u001b[39;49m\u001b[43ma\u001b[49m\u001b[43m,\u001b[49m\u001b[43m \u001b[49m\u001b[38;5;241;43m*\u001b[39;49m\u001b[38;5;241;43m*\u001b[39;49m\u001b[43mk\u001b[49m\u001b[43m)\u001b[49m\n",
      "File \u001b[1;32m~\\anaconda3\\envs\\pycorrector\\lib\\site-packages\\moviepy\\audio\\AudioClip.py:127\u001b[0m, in \u001b[0;36mAudioClip.to_soundarray\u001b[1;34m(self, tt, fps, quantize, nbytes, buffersize)\u001b[0m\n\u001b[0;32m    117\u001b[0m \u001b[38;5;124;03m\"\"\"\u001b[39;00m\n\u001b[0;32m    118\u001b[0m \u001b[38;5;124;03melif len(tt)> 1.5*buffersize:\u001b[39;00m\n\u001b[0;32m    119\u001b[0m \u001b[38;5;124;03m    nchunks = int(len(tt)/buffersize+1)\u001b[39;00m\n\u001b[1;32m   (...)\u001b[0m\n\u001b[0;32m    123\u001b[0m \u001b[38;5;124;03m                      for ttc in tt_chunks])\u001b[39;00m\n\u001b[0;32m    124\u001b[0m \u001b[38;5;124;03m\"\"\"\u001b[39;00m\n\u001b[0;32m    125\u001b[0m \u001b[38;5;66;03m#print tt.max() - tt.min(), tt.min(), tt.max()\u001b[39;00m\n\u001b[1;32m--> 127\u001b[0m snd_array \u001b[38;5;241m=\u001b[39m \u001b[38;5;28;43mself\u001b[39;49m\u001b[38;5;241;43m.\u001b[39;49m\u001b[43mget_frame\u001b[49m\u001b[43m(\u001b[49m\u001b[43mtt\u001b[49m\u001b[43m)\u001b[49m\n\u001b[0;32m    129\u001b[0m \u001b[38;5;28;01mif\u001b[39;00m quantize:\n\u001b[0;32m    130\u001b[0m     snd_array \u001b[38;5;241m=\u001b[39m np\u001b[38;5;241m.\u001b[39mmaximum(\u001b[38;5;241m-\u001b[39m\u001b[38;5;241m0.99\u001b[39m, np\u001b[38;5;241m.\u001b[39mminimum(\u001b[38;5;241m0.99\u001b[39m, snd_array))\n",
      "File \u001b[1;32m<decorator-gen-29>:2\u001b[0m, in \u001b[0;36mget_frame\u001b[1;34m(self, t)\u001b[0m\n",
      "File \u001b[1;32m~\\anaconda3\\envs\\pycorrector\\lib\\site-packages\\moviepy\\decorators.py:89\u001b[0m, in \u001b[0;36mpreprocess_args.<locals>.wrapper\u001b[1;34m(f, *a, **kw)\u001b[0m\n\u001b[0;32m     85\u001b[0m new_a \u001b[38;5;241m=\u001b[39m [fun(arg) \u001b[38;5;28;01mif\u001b[39;00m (name \u001b[38;5;129;01min\u001b[39;00m varnames) \u001b[38;5;28;01melse\u001b[39;00m arg\n\u001b[0;32m     86\u001b[0m          \u001b[38;5;28;01mfor\u001b[39;00m (arg, name) \u001b[38;5;129;01min\u001b[39;00m \u001b[38;5;28mzip\u001b[39m(a, names)]\n\u001b[0;32m     87\u001b[0m new_kw \u001b[38;5;241m=\u001b[39m {k: fun(v) \u001b[38;5;28;01mif\u001b[39;00m k \u001b[38;5;129;01min\u001b[39;00m varnames \u001b[38;5;28;01melse\u001b[39;00m v\n\u001b[0;32m     88\u001b[0m          \u001b[38;5;28;01mfor\u001b[39;00m (k,v) \u001b[38;5;129;01min\u001b[39;00m kw\u001b[38;5;241m.\u001b[39mitems()}\n\u001b[1;32m---> 89\u001b[0m \u001b[38;5;28;01mreturn\u001b[39;00m \u001b[43mf\u001b[49m\u001b[43m(\u001b[49m\u001b[38;5;241;43m*\u001b[39;49m\u001b[43mnew_a\u001b[49m\u001b[43m,\u001b[49m\u001b[43m \u001b[49m\u001b[38;5;241;43m*\u001b[39;49m\u001b[38;5;241;43m*\u001b[39;49m\u001b[43mnew_kw\u001b[49m\u001b[43m)\u001b[49m\n",
      "File \u001b[1;32m~\\anaconda3\\envs\\pycorrector\\lib\\site-packages\\moviepy\\Clip.py:93\u001b[0m, in \u001b[0;36mClip.get_frame\u001b[1;34m(self, t)\u001b[0m\n\u001b[0;32m     91\u001b[0m         \u001b[38;5;28;01mreturn\u001b[39;00m frame\n\u001b[0;32m     92\u001b[0m \u001b[38;5;28;01melse\u001b[39;00m:\n\u001b[1;32m---> 93\u001b[0m     \u001b[38;5;28;01mreturn\u001b[39;00m \u001b[38;5;28;43mself\u001b[39;49m\u001b[38;5;241;43m.\u001b[39;49m\u001b[43mmake_frame\u001b[49m\u001b[43m(\u001b[49m\u001b[43mt\u001b[49m\u001b[43m)\u001b[49m\n",
      "File \u001b[1;32m~\\anaconda3\\envs\\pycorrector\\lib\\site-packages\\moviepy\\Clip.py:136\u001b[0m, in \u001b[0;36mClip.fl.<locals>.<lambda>\u001b[1;34m(t)\u001b[0m\n\u001b[0;32m    133\u001b[0m     apply_to \u001b[38;5;241m=\u001b[39m []\n\u001b[0;32m    135\u001b[0m \u001b[38;5;66;03m#mf = copy(self.make_frame)\u001b[39;00m\n\u001b[1;32m--> 136\u001b[0m newclip \u001b[38;5;241m=\u001b[39m \u001b[38;5;28mself\u001b[39m\u001b[38;5;241m.\u001b[39mset_make_frame(\u001b[38;5;28;01mlambda\u001b[39;00m t: \u001b[43mfun\u001b[49m\u001b[43m(\u001b[49m\u001b[38;5;28;43mself\u001b[39;49m\u001b[38;5;241;43m.\u001b[39;49m\u001b[43mget_frame\u001b[49m\u001b[43m,\u001b[49m\u001b[43m \u001b[49m\u001b[43mt\u001b[49m\u001b[43m)\u001b[49m)\n\u001b[0;32m    138\u001b[0m \u001b[38;5;28;01mif\u001b[39;00m \u001b[38;5;129;01mnot\u001b[39;00m keep_duration:\n\u001b[0;32m    139\u001b[0m     newclip\u001b[38;5;241m.\u001b[39mduration \u001b[38;5;241m=\u001b[39m \u001b[38;5;28;01mNone\u001b[39;00m\n",
      "File \u001b[1;32m~\\anaconda3\\envs\\pycorrector\\lib\\site-packages\\moviepy\\Clip.py:187\u001b[0m, in \u001b[0;36mClip.fl_time.<locals>.<lambda>\u001b[1;34m(gf, t)\u001b[0m\n\u001b[0;32m    184\u001b[0m \u001b[38;5;28;01mif\u001b[39;00m apply_to \u001b[38;5;129;01mis\u001b[39;00m \u001b[38;5;28;01mNone\u001b[39;00m:\n\u001b[0;32m    185\u001b[0m     apply_to \u001b[38;5;241m=\u001b[39m []\n\u001b[1;32m--> 187\u001b[0m \u001b[38;5;28;01mreturn\u001b[39;00m \u001b[38;5;28mself\u001b[39m\u001b[38;5;241m.\u001b[39mfl(\u001b[38;5;28;01mlambda\u001b[39;00m gf, t: \u001b[43mgf\u001b[49m\u001b[43m(\u001b[49m\u001b[43mt_func\u001b[49m\u001b[43m(\u001b[49m\u001b[43mt\u001b[49m\u001b[43m)\u001b[49m\u001b[43m)\u001b[49m, apply_to,\n\u001b[0;32m    188\u001b[0m                keep_duration\u001b[38;5;241m=\u001b[39mkeep_duration)\n",
      "File \u001b[1;32m<decorator-gen-29>:2\u001b[0m, in \u001b[0;36mget_frame\u001b[1;34m(self, t)\u001b[0m\n",
      "File \u001b[1;32m~\\anaconda3\\envs\\pycorrector\\lib\\site-packages\\moviepy\\decorators.py:89\u001b[0m, in \u001b[0;36mpreprocess_args.<locals>.wrapper\u001b[1;34m(f, *a, **kw)\u001b[0m\n\u001b[0;32m     85\u001b[0m new_a \u001b[38;5;241m=\u001b[39m [fun(arg) \u001b[38;5;28;01mif\u001b[39;00m (name \u001b[38;5;129;01min\u001b[39;00m varnames) \u001b[38;5;28;01melse\u001b[39;00m arg\n\u001b[0;32m     86\u001b[0m          \u001b[38;5;28;01mfor\u001b[39;00m (arg, name) \u001b[38;5;129;01min\u001b[39;00m \u001b[38;5;28mzip\u001b[39m(a, names)]\n\u001b[0;32m     87\u001b[0m new_kw \u001b[38;5;241m=\u001b[39m {k: fun(v) \u001b[38;5;28;01mif\u001b[39;00m k \u001b[38;5;129;01min\u001b[39;00m varnames \u001b[38;5;28;01melse\u001b[39;00m v\n\u001b[0;32m     88\u001b[0m          \u001b[38;5;28;01mfor\u001b[39;00m (k,v) \u001b[38;5;129;01min\u001b[39;00m kw\u001b[38;5;241m.\u001b[39mitems()}\n\u001b[1;32m---> 89\u001b[0m \u001b[38;5;28;01mreturn\u001b[39;00m \u001b[43mf\u001b[49m\u001b[43m(\u001b[49m\u001b[38;5;241;43m*\u001b[39;49m\u001b[43mnew_a\u001b[49m\u001b[43m,\u001b[49m\u001b[43m \u001b[49m\u001b[38;5;241;43m*\u001b[39;49m\u001b[38;5;241;43m*\u001b[39;49m\u001b[43mnew_kw\u001b[49m\u001b[43m)\u001b[49m\n",
      "File \u001b[1;32m~\\anaconda3\\envs\\pycorrector\\lib\\site-packages\\moviepy\\Clip.py:93\u001b[0m, in \u001b[0;36mClip.get_frame\u001b[1;34m(self, t)\u001b[0m\n\u001b[0;32m     91\u001b[0m         \u001b[38;5;28;01mreturn\u001b[39;00m frame\n\u001b[0;32m     92\u001b[0m \u001b[38;5;28;01melse\u001b[39;00m:\n\u001b[1;32m---> 93\u001b[0m     \u001b[38;5;28;01mreturn\u001b[39;00m \u001b[38;5;28;43mself\u001b[39;49m\u001b[38;5;241;43m.\u001b[39;49m\u001b[43mmake_frame\u001b[49m\u001b[43m(\u001b[49m\u001b[43mt\u001b[49m\u001b[43m)\u001b[49m\n",
      "File \u001b[1;32m~\\anaconda3\\envs\\pycorrector\\lib\\site-packages\\moviepy\\audio\\io\\AudioFileClip.py:77\u001b[0m, in \u001b[0;36mAudioFileClip.__init__.<locals>.<lambda>\u001b[1;34m(t)\u001b[0m\n\u001b[0;32m     74\u001b[0m \u001b[38;5;28mself\u001b[39m\u001b[38;5;241m.\u001b[39mend \u001b[38;5;241m=\u001b[39m \u001b[38;5;28mself\u001b[39m\u001b[38;5;241m.\u001b[39mreader\u001b[38;5;241m.\u001b[39mduration\n\u001b[0;32m     75\u001b[0m \u001b[38;5;28mself\u001b[39m\u001b[38;5;241m.\u001b[39mbuffersize \u001b[38;5;241m=\u001b[39m \u001b[38;5;28mself\u001b[39m\u001b[38;5;241m.\u001b[39mreader\u001b[38;5;241m.\u001b[39mbuffersize\n\u001b[1;32m---> 77\u001b[0m \u001b[38;5;28mself\u001b[39m\u001b[38;5;241m.\u001b[39mmake_frame \u001b[38;5;241m=\u001b[39m \u001b[38;5;28;01mlambda\u001b[39;00m t: \u001b[38;5;28;43mself\u001b[39;49m\u001b[38;5;241;43m.\u001b[39;49m\u001b[43mreader\u001b[49m\u001b[38;5;241;43m.\u001b[39;49m\u001b[43mget_frame\u001b[49m\u001b[43m(\u001b[49m\u001b[43mt\u001b[49m\u001b[43m)\u001b[49m\n\u001b[0;32m     78\u001b[0m \u001b[38;5;28mself\u001b[39m\u001b[38;5;241m.\u001b[39mnchannels \u001b[38;5;241m=\u001b[39m \u001b[38;5;28mself\u001b[39m\u001b[38;5;241m.\u001b[39mreader\u001b[38;5;241m.\u001b[39mnchannels\n",
      "File \u001b[1;32m~\\anaconda3\\envs\\pycorrector\\lib\\site-packages\\moviepy\\audio\\io\\readers.py:170\u001b[0m, in \u001b[0;36mFFMPEG_AudioReader.get_frame\u001b[1;34m(self, tt)\u001b[0m\n\u001b[0;32m    168\u001b[0m \u001b[38;5;66;03m# Check that the requested time is in the valid range\u001b[39;00m\n\u001b[0;32m    169\u001b[0m     \u001b[38;5;28;01mif\u001b[39;00m \u001b[38;5;129;01mnot\u001b[39;00m in_time\u001b[38;5;241m.\u001b[39many():\n\u001b[1;32m--> 170\u001b[0m         \u001b[38;5;28;01mraise\u001b[39;00m \u001b[38;5;167;01mIOError\u001b[39;00m(\u001b[38;5;124m\"\u001b[39m\u001b[38;5;124mError in file \u001b[39m\u001b[38;5;132;01m%s\u001b[39;00m\u001b[38;5;124m, \u001b[39m\u001b[38;5;124m\"\u001b[39m\u001b[38;5;241m%\u001b[39m(\u001b[38;5;28mself\u001b[39m\u001b[38;5;241m.\u001b[39mfilename)\u001b[38;5;241m+\u001b[39m\n\u001b[0;32m    171\u001b[0m                \u001b[38;5;124m\"\u001b[39m\u001b[38;5;124mAccessing time t=\u001b[39m\u001b[38;5;132;01m%.02f\u001b[39;00m\u001b[38;5;124m-\u001b[39m\u001b[38;5;132;01m%.02f\u001b[39;00m\u001b[38;5;124m seconds, \u001b[39m\u001b[38;5;124m\"\u001b[39m\u001b[38;5;241m%\u001b[39m(tt[\u001b[38;5;241m0\u001b[39m], tt[\u001b[38;5;241m-\u001b[39m\u001b[38;5;241m1\u001b[39m])\u001b[38;5;241m+\u001b[39m\n\u001b[0;32m    172\u001b[0m                \u001b[38;5;124m\"\u001b[39m\u001b[38;5;124mwith clip duration=\u001b[39m\u001b[38;5;132;01m%d\u001b[39;00m\u001b[38;5;124m seconds, \u001b[39m\u001b[38;5;124m\"\u001b[39m\u001b[38;5;241m%\u001b[39m\u001b[38;5;28mself\u001b[39m\u001b[38;5;241m.\u001b[39mduration)\n\u001b[0;32m    174\u001b[0m     \u001b[38;5;66;03m# The np.round in the next line is super-important.\u001b[39;00m\n\u001b[0;32m    175\u001b[0m     \u001b[38;5;66;03m# Removing it results in artifacts in the noise.\u001b[39;00m\n\u001b[0;32m    176\u001b[0m     frames \u001b[38;5;241m=\u001b[39m np\u001b[38;5;241m.\u001b[39mround((\u001b[38;5;28mself\u001b[39m\u001b[38;5;241m.\u001b[39mfps\u001b[38;5;241m*\u001b[39mtt))\u001b[38;5;241m.\u001b[39mastype(\u001b[38;5;28mint\u001b[39m)[in_time]\n",
      "\u001b[1;31mOSError\u001b[0m: Error in file .\\0409_1-4.mp4, Accessing time t=72.80-72.84 seconds, with clip duration=72 seconds, "
     ]
    },
    {
     "name": "stderr",
     "output_type": "stream",
     "text": [
      "\r",
      "chunk:  78%|████████████████████████████████████████████████▌             | 311/397 [00:15<00:00, 783.39it/s, now=None]"
     ]
    }
   ],
   "source": [
    "import pysrt\n",
    "from opencc import OpenCC\n",
    "from moviepy.editor import *\n",
    "\n",
    "#excludes = ['三振出局','三振','K','拉弓','拉掉','再見三振','人體電風扇','遭到三振','老K','三陣','3陣'] #三振關鍵詞\n",
    "excludes_1 = ['nice catch','NICEPLAY','球收進','手套','撲接','接','撲','鯉魚躍龍門','飛球','diving','catch','美技','守備','滑','nice play','沒收']#撲接關鍵詞\n",
    "movie_start_times=[]\n",
    "movie_end_times=[]\n",
    "\n",
    "for srt_file, vedio_path in zip(srt_files,vedio_paths): #srt檔 vedio檔\n",
    "    subs = pysrt.open(srt_file)\n",
    "    cc = OpenCC('s2tw')\n",
    "    print(srt_file, vedio_path)\n",
    "    for i in range (len(subs)): #srt檔中每一句\n",
    "        content = subs.data[i]\n",
    "        text = content.text     #內容\n",
    "        text = cc.convert(text) #翻譯\n",
    "        print(text)\n",
    "        index = content.index \n",
    "        print(\"第{}句:\".format(index))#序號\n",
    "        durtion = content.duration #時間區間\n",
    "        print(\"時間長度:\",durtion)\n",
    "        start = content.start #起始\n",
    "        print(\"起始時間:\",start)\n",
    "        end = content.end  #結束\n",
    "        print(\"結束時間:\",end)\n",
    "        \n",
    "        \n",
    "        if any(j in text for j in excludes_1) == True:\n",
    "            print('為撲接語句')\n",
    "            start = t2s(start)-5 #片段時轉秒\n",
    "            end = start+18 # #片段時轉秒\n",
    "           \n",
    "            if len(movie_start_times) == 0:\n",
    "                print(\"判斷式1\")\n",
    "                print(movie_start_times,movie_end_times)\n",
    "                print(start,end)\n",
    "                count = 1\n",
    "                movie_start_times.append(start)\n",
    "                movie_end_times.append(end)  \n",
    "                video = VideoFileClip(vedio_path) \n",
    "                output = video.subclip(start,end)                 # 剪輯影片 ( 單位秒 ) 差不多前後各10秒\n",
    "                output.write_videofile(\"./剪輯後影片(18秒)/撲接片段_{}.mp4\".format(count),temp_audiofile=\"temp-audio1.m4a\", remove_temp=True, codec=\"libx264\", audio_codec=\"aac\")\n",
    "                 \n",
    "            else:\n",
    "                boolean_value = []\n",
    "                for i in range(len(movie_start_times)):\n",
    "                    print(i)\n",
    "                    print(movie_start_times[i],movie_end_times[i])                    \n",
    "                    a = check(movie_start_times[i],movie_end_times[i],start) #boolean\n",
    "                    b = check(movie_start_times[i],movie_end_times[i],end) #boolean\n",
    "                    boolean_value.append(a)\n",
    "                    boolean_value.append(b)\n",
    "                    print(boolean_value)\n",
    "                if all(boolean_value): #boolean\n",
    "                    print(start , end)\n",
    "                    count+=1\n",
    "                    movie_start_times.append(start)\n",
    "                    movie_end_times.append(end)  \n",
    "                    video = VideoFileClip(vedio_path) \n",
    "                    output = video.subclip(start,end)                 # 剪輯影片 ( 單位秒 ) 差不多前後各10秒\n",
    "                    output.write_videofile(\"./剪輯後影片(18秒)/撲接片段_{}.mp4\".format(count),temp_audiofile=\"temp-audio1.m4a\", remove_temp=True, codec=\"libx264\", audio_codec=\"aac\")  \n",
    "        else:\n",
    "            print('非撲接語句')\n",
    "        print(\" \")\n"
   ]
  },
  {
   "cell_type": "code",
   "execution_count": null,
   "id": "19e27f36",
   "metadata": {},
   "outputs": [],
   "source": []
  },
  {
   "cell_type": "code",
   "execution_count": null,
   "id": "aca31b31",
   "metadata": {},
   "outputs": [],
   "source": []
  },
  {
   "cell_type": "code",
   "execution_count": null,
   "id": "0ec1f06e",
   "metadata": {},
   "outputs": [],
   "source": []
  },
  {
   "cell_type": "code",
   "execution_count": null,
   "id": "2c2191d8",
   "metadata": {},
   "outputs": [],
   "source": []
  },
  {
   "cell_type": "code",
   "execution_count": null,
   "id": "a03b8736",
   "metadata": {},
   "outputs": [],
   "source": []
  },
  {
   "cell_type": "code",
   "execution_count": null,
   "id": "3fa9f663",
   "metadata": {},
   "outputs": [],
   "source": []
  },
  {
   "cell_type": "code",
   "execution_count": null,
   "id": "649d4030",
   "metadata": {},
   "outputs": [],
   "source": []
  },
  {
   "cell_type": "code",
   "execution_count": null,
   "id": "3e266268",
   "metadata": {},
   "outputs": [],
   "source": []
  },
  {
   "cell_type": "code",
   "execution_count": 21,
   "id": "667e241d",
   "metadata": {},
   "outputs": [
    {
     "name": "stderr",
     "output_type": "stream",
     "text": [
      "t:   0%|                                                                             | 0/135 [00:00<?, ?it/s, now=None]"
     ]
    },
    {
     "name": "stdout",
     "output_type": "stream",
     "text": [
      "Moviepy - Building video output_1.mp4.\n",
      "MoviePy - Writing audio in temp-audio.m4a\n",
      "MoviePy - Done.\n",
      "Moviepy - Writing video output_1.mp4\n",
      "\n"
     ]
    },
    {
     "name": "stderr",
     "output_type": "stream",
     "text": [
      "                                                                                                                       \r"
     ]
    },
    {
     "name": "stdout",
     "output_type": "stream",
     "text": [
      "Moviepy - Done !\n",
      "Moviepy - video ready output_1.mp4\n",
      "ok\n"
     ]
    }
   ],
   "source": [
    "# import os\n",
    "# os.chdir('/content/drive/MyDrive/Colab Notebooks')  # 使用 Colab 要換路徑使用\n",
    "\n",
    "from moviepy.editor import *\n",
    "video = VideoFileClip(\"C:\\\\Users\\\\user\\\\Downloads\\\\撲接 dataset\\\\0408_2-16.mp4\")  # 讀取影片\n",
    "# start = str(\"00:00:05.356\")\n",
    "# end = str(\"00:00:07.356\")\n",
    "output = video.subclip(1.555,6.049)  # 剪輯影片 ( 單位秒 )\n",
    "output = output.fx(vfx.fadein,0.2)#淡入\n",
    "output = output.fx(vfx.fadeout,0.2)#淡出\n",
    "output.write_videofile(\"output_1.mp4\",temp_audiofile=\"temp-audio.m4a\", remove_temp=True, codec=\"libx264\", audio_codec=\"aac\")\n",
    "# 輸出影片，注意後方需要加上參數，不然會沒有聲音\n",
    "print('ok')"
   ]
  },
  {
   "cell_type": "code",
   "execution_count": 129,
   "id": "38719666",
   "metadata": {},
   "outputs": [
    {
     "name": "stdout",
     "output_type": "stream",
     "text": [
      "Collecting moviepy\n",
      "  Downloading moviepy-1.0.3.tar.gz (388 kB)\n",
      "Collecting decorator<5.0,>=4.0.2\n",
      "  Downloading decorator-4.4.2-py2.py3-none-any.whl (9.2 kB)\n",
      "Requirement already satisfied: tqdm<5.0,>=4.11.2 in c:\\users\\user\\anaconda3\\lib\\site-packages (from moviepy) (4.59.0)\n",
      "Requirement already satisfied: requests<3.0,>=2.8.1 in c:\\users\\user\\anaconda3\\lib\\site-packages (from moviepy) (2.25.1)\n",
      "Collecting proglog<=1.0.0\n",
      "  Downloading proglog-0.1.10-py3-none-any.whl (6.1 kB)\n",
      "Requirement already satisfied: numpy>=1.17.3 in c:\\users\\user\\anaconda3\\lib\\site-packages (from moviepy) (1.22.4)\n",
      "Requirement already satisfied: imageio<3.0,>=2.5 in c:\\users\\user\\anaconda3\\lib\\site-packages (from moviepy) (2.9.0)\n",
      "Collecting imageio_ffmpeg>=0.2.0\n",
      "  Downloading imageio_ffmpeg-0.4.7-py3-none-win_amd64.whl (22.6 MB)\n",
      "Requirement already satisfied: pillow in c:\\users\\user\\anaconda3\\lib\\site-packages (from imageio<3.0,>=2.5->moviepy) (8.2.0)\n",
      "Requirement already satisfied: chardet<5,>=3.0.2 in c:\\users\\user\\anaconda3\\lib\\site-packages (from requests<3.0,>=2.8.1->moviepy) (4.0.0)\n",
      "Requirement already satisfied: certifi>=2017.4.17 in c:\\users\\user\\anaconda3\\lib\\site-packages (from requests<3.0,>=2.8.1->moviepy) (2020.12.5)\n",
      "Requirement already satisfied: urllib3<1.27,>=1.21.1 in c:\\users\\user\\anaconda3\\lib\\site-packages (from requests<3.0,>=2.8.1->moviepy) (1.26.4)\n",
      "Requirement already satisfied: idna<3,>=2.5 in c:\\users\\user\\anaconda3\\lib\\site-packages (from requests<3.0,>=2.8.1->moviepy) (2.10)\n",
      "Building wheels for collected packages: moviepy\n",
      "  Building wheel for moviepy (setup.py): started\n",
      "  Building wheel for moviepy (setup.py): finished with status 'done'\n",
      "  Created wheel for moviepy: filename=moviepy-1.0.3-py3-none-any.whl size=110726 sha256=12b9eacb8c19b7d1ffceea216a22e21253d092f1a8a431dc29431c8cbac72a9e\n",
      "  Stored in directory: c:\\users\\user\\appdata\\local\\pip\\cache\\wheels\\e4\\a4\\db\\0368d3a04033da662e13926594b3a8cf1aa4ffeefe570cfac1\n",
      "Successfully built moviepy\n",
      "Installing collected packages: proglog, imageio-ffmpeg, decorator, moviepy\n",
      "  Attempting uninstall: decorator\n",
      "    Found existing installation: decorator 5.0.6\n",
      "    Uninstalling decorator-5.0.6:\n",
      "      Successfully uninstalled decorator-5.0.6\n",
      "Successfully installed decorator-4.4.2 imageio-ffmpeg-0.4.7 moviepy-1.0.3 proglog-0.1.10\n"
     ]
    }
   ],
   "source": [
    "!pip install moviepy"
   ]
  },
  {
   "cell_type": "code",
   "execution_count": 130,
   "id": "0207d24d",
   "metadata": {},
   "outputs": [
    {
     "name": "stdout",
     "output_type": "stream",
     "text": [
      "Collecting ffmpeg\n",
      "  Downloading ffmpeg-1.4.tar.gz (5.1 kB)\n",
      "Building wheels for collected packages: ffmpeg\n",
      "  Building wheel for ffmpeg (setup.py): started\n",
      "  Building wheel for ffmpeg (setup.py): finished with status 'done'\n",
      "  Created wheel for ffmpeg: filename=ffmpeg-1.4-py3-none-any.whl size=6083 sha256=bc5ee87b1b45c2dd56dd212828ea4090c0d7ae3e4ec5d1d3601c55004baf402a\n",
      "  Stored in directory: c:\\users\\user\\appdata\\local\\pip\\cache\\wheels\\30\\33\\46\\5ab7eca55b9490dddbf3441c68a29535996270ef1ce8b9b6d7\n",
      "Successfully built ffmpeg\n",
      "Installing collected packages: ffmpeg\n",
      "Successfully installed ffmpeg-1.4\n"
     ]
    }
   ],
   "source": [
    "!pip install ffmpeg"
   ]
  },
  {
   "cell_type": "code",
   "execution_count": 31,
   "id": "4479d36f",
   "metadata": {},
   "outputs": [
    {
     "name": "stdout",
     "output_type": "stream",
     "text": [
      "打在了地上要來考驗一下哎呀\n",
      "才說完凌晨飛火車過山洞嗯\n",
      "好運隊在這場比賽2遊都出現了失誤\n",
      "這個球還給好球\n",
      "打在了地上\n",
      "但是陳俊軒的防守太好了\n",
      "哎呦打在了陳永基身上啊\n",
      "哇都殭屍啊\n",
      "還蠻痛的吧\n",
      "哇陳俊軒要過去\n",
      "say sorry啊\n",
      "一般吃一下都很好啊\n",
      "但這球也傳的太準了\n",
      "打在了成龍記的背上啊\n",
      "那你幹嘛準對的\n",
      "但是這個位置其實他算的蠻準真的\n",
      "第一拍其實陳俊秀守得非常好\n",
      "這個塔要不好找我先踩累\n",
      "抓到一個出局數\n",
      "那這個第二個出局數必須要tiger\n",
      "對他剛好傳在了直線上\n",
      "對他還會傳遞啊\n",
      "哎呦陳永記\n",
      "得不償失啊\n",
      "這個我在去年關懷碑的時候有道花臉\n",
      "嗯去我們去採訪\n",
      "然後其實看到了很多的職職棒的球員\n",
      "來自花東的球員他們\n",
      "在休賽季的時候回到了家鄉\n",
      "回饋家鄉\n"
     ]
    }
   ],
   "source": [
    "from opencc import OpenCC\n",
    "\n",
    "cc = OpenCC('s2tw')\n",
    "for i in chinese:\n",
    "    print(cc.convert(i))"
   ]
  },
  {
   "cell_type": "code",
   "execution_count": 5,
   "id": "0bbf3ab7",
   "metadata": {},
   "outputs": [
    {
     "data": {
      "text/plain": [
       "'./copy_file.txt'"
      ]
     },
     "execution_count": 5,
     "metadata": {},
     "output_type": "execute_result"
    }
   ],
   "source": [
    "import shutil\n",
    "\n",
    "src = \"./三振語句.txt\"\n",
    "dst = \"./copy_file.txt\"\n",
    "shutil.copyfile(src, dst)"
   ]
  },
  {
   "cell_type": "code",
   "execution_count": null,
   "id": "e62faf7f",
   "metadata": {},
   "outputs": [],
   "source": [
    "\n"
   ]
  },
  {
   "cell_type": "code",
   "execution_count": null,
   "id": "bafb3521",
   "metadata": {},
   "outputs": [],
   "source": []
  }
 ],
 "metadata": {
  "kernelspec": {
   "display_name": "Python 3 (ipykernel)",
   "language": "python",
   "name": "python3"
  },
  "language_info": {
   "codemirror_mode": {
    "name": "ipython",
    "version": 3
   },
   "file_extension": ".py",
   "mimetype": "text/x-python",
   "name": "python",
   "nbconvert_exporter": "python",
   "pygments_lexer": "ipython3",
   "version": "3.8.13"
  }
 },
 "nbformat": 4,
 "nbformat_minor": 5
}
